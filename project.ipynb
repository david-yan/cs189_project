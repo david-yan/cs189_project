{
 "cells": [
  {
   "cell_type": "code",
   "execution_count": 1,
   "metadata": {},
   "outputs": [],
   "source": [
    "import numpy as np\n",
    "import matplotlib.pyplot as plt\n",
    "import tensorflow as tf\n",
    "from itertools import combinations_with_replacement\n",
    "from math import factorial"
   ]
  },
  {
   "cell_type": "code",
   "execution_count": 3,
   "metadata": {},
   "outputs": [],
   "source": [
    "def generate_Y(n, degree, dim, X, terms, c_s, noise_Y):\n",
    "    Y = np.zeros((n, 1))\n",
    "    for i in range(n):\n",
    "        x = X[i]\n",
    "        y = 0\n",
    "        for j in range(len(terms)):\n",
    "            c = c_s[j]\n",
    "            term = 1\n",
    "            for k in terms[j]:\n",
    "                if k == dim:\n",
    "                    continue\n",
    "                term *= x[k]\n",
    "            y += c * term\n",
    "        Y[i, 0] = y\n",
    "    if noise_Y:\n",
    "        Y = Y + np.random.randn(n, 1)\n",
    "    return Y\n",
    "\n",
    "def generate_data(n, degree, dim, x_range, c_range, noise_X=False, noise_Y=False):\n",
    "    X = np.random.rand(n, dim) * x_range - (x_range / 2)\n",
    "    terms = list(combinations_with_replacement(range(dim+1), degree))\n",
    "    c_s = np.random.rand(len(terms)) * c_range - (c_range / 2)\n",
    "    Y = generate_Y(n, degree, dim, X, terms, c_s, noise_Y)\n",
    "    if noise_X:\n",
    "        X = X + np.random.randn(n, dim)\n",
    "    return X, Y, c_s\n",
    "\n",
    "def generate_data_from_c(n, degree, dim, x_range, c_s, noise_X=False, noise_Y=False):\n",
    "    X = np.random.rand(n, dim) * x_range - (x_range / 2)\n",
    "    terms = list(combinations_with_replacement(range(dim+1), degree))\n",
    "    Y = generate_Y(n, degree, dim, X, terms, c_s, noise_Y)\n",
    "    if noise_X:\n",
    "        X = X + np.random.randn(n, dim)\n",
    "    return X, Y"
   ]
  },
  {
   "cell_type": "code",
   "execution_count": 11,
   "metadata": {},
   "outputs": [],
   "source": [
    "degree = 3\n",
    "dim = 1\n",
    "\n",
    "n_train = 1000\n",
    "n_test = 100\n",
    "x_range = 20\n",
    "\n",
    "c_range = 20"
   ]
  },
  {
   "cell_type": "code",
   "execution_count": 12,
   "metadata": {},
   "outputs": [],
   "source": [
    "x_train, y_train, c_true = generate_data(n_train, degree, dim, x_range, c_range)\n",
    "x_test, y_test = generate_data_from_c(n_test, degree, dim, x_range, c_true)"
   ]
  },
  {
   "cell_type": "code",
   "execution_count": 13,
   "metadata": {},
   "outputs": [
    {
     "data": {
      "text/plain": [
       "(array([-3.75062526]),\n",
       " array([ 395.80326238]),\n",
       " array([-5.91461389,  4.65367809, -6.57168675, -6.36835384]))"
      ]
     },
     "execution_count": 13,
     "metadata": {},
     "output_type": "execute_result"
    }
   ],
   "source": [
    "x_train[0], y_train[0], c_true"
   ]
  },
  {
   "cell_type": "code",
   "execution_count": 9,
   "metadata": {},
   "outputs": [],
   "source": [
    "learning_rate = 0.1\n",
    "num_steps = 1000\n",
    "batch_size = 128\n",
    "display_step = 100\n",
    "\n",
    "n_hidden_1 = 1\n",
    "num_input = 1\n",
    "num_output = 1\n",
    "\n",
    "X = tf.placeholder(\"float\", [None, num_input])\n",
    "Y = tf.placeholder(\"float\", [None, num_output])\n",
    "\n",
    "weights = {\n",
    "    'h1': tf.Variable(tf.random_normal([num_input, n_hidden_1])),\n",
    "    'out': tf.Variable(tf.random_normal([n_hidden_1, num_output]))\n",
    "}"
   ]
  },
  {
   "cell_type": "code",
   "execution_count": 15,
   "metadata": {},
   "outputs": [],
   "source": [
    "def neural_net(x):\n",
    "    layer_1 = tf.nn.relu(tf.matmul(x, weights['h1']))\n",
    "    out_layer = tf.matmul(layer_1, weights['out'])\n",
    "    return out_layer"
   ]
  },
  {
   "cell_type": "code",
   "execution_count": 16,
   "metadata": {},
   "outputs": [],
   "source": [
    "predictions = neural_net(X)\n",
    "loss = tf.losses.mean_squared_error(Y, predictions, reduction=\"none\")\n",
    "mse = tf.losses.mean_squared_error(Y, predictions)\n",
    "optimizer = tf.train.AdamOptimizer(learning_rate=learning_rate)\n",
    "train = optimizer.minimize(loss)\n",
    "\n",
    "init = tf.global_variables_initializer()"
   ]
  },
  {
   "cell_type": "code",
   "execution_count": 17,
   "metadata": {},
   "outputs": [
    {
     "name": "stdout",
     "output_type": "stream",
     "text": [
      "Step 0 MSE: 103343.0\n",
      "Step 99 MSE: 50393.6\n",
      "Step 199 MSE: 49708.5\n",
      "Step 299 MSE: 49708.5\n",
      "Step 399 MSE: 49708.5\n",
      "Step 499 MSE: 49708.5\n",
      "Step 599 MSE: 49708.5\n",
      "Step 699 MSE: 49708.5\n",
      "Step 799 MSE: 49708.5\n",
      "Step 899 MSE: 49708.5\n",
      "Step 999 MSE: 49708.5\n"
     ]
    }
   ],
   "source": [
    "sess = tf.Session()\n",
    "sess.run(init)\n",
    "\n",
    "for step in range(num_steps):\n",
    "    sess.run(train, feed_dict={X: x_train, Y: y_train})\n",
    "    \n",
    "    if (step + 1) % display_step == 0 or step == 0:\n",
    "        print(\"Step\", str(step), \"MSE:\", sess.run(mse, feed_dict={X: x_train, Y: y_train}))"
   ]
  },
  {
   "cell_type": "code",
   "execution_count": 18,
   "metadata": {},
   "outputs": [
    {
     "name": "stdout",
     "output_type": "stream",
     "text": [
      "Test MSE: 61286.0\n"
     ]
    }
   ],
   "source": [
    "print(\"Test MSE:\", sess.run(mse, feed_dict={X: x_test, Y: y_test}))"
   ]
  },
  {
   "cell_type": "code",
   "execution_count": 6,
   "metadata": {},
   "outputs": [],
   "source": [
    "def visualize_neural_net(sess, predictions, dim, x_range, degree, c_true):\n",
    "    x = np.array([np.arange(-1 * x_range, x_range)])\n",
    "    y = sess.run(predictions, feed_dict={X: x.T}).T\n",
    "    terms = list(combinations_with_replacement(range(dim+1), degree))\n",
    "    y_true = generate_Y(len(x.T), degree, dim, x.T, terms, c_true, False).T\n",
    "    plt.plot(x[0], y[0], label='neural net')\n",
    "    plt.plot(x[0], y_true[0], label='true model')\n",
    "    plt.legend()\n",
    "    plt.show()"
   ]
  },
  {
   "cell_type": "code",
   "execution_count": 20,
   "metadata": {},
   "outputs": [
    {
     "data": {
      "image/png": "[encoded data removed]",
      "text/plain": [
       "<matplotlib.figure.Figure at 0x7f6f88140860>"
      ]
     },
     "metadata": {},
     "output_type": "display_data"
    }
   ],
   "source": [
    "visualize_neural_net(sess, predictions, dim, x_range, degree, c_true)\n",
    "sess.close()"
   ]
  },
  {
   "cell_type": "code",
   "execution_count": 7,
   "metadata": {},
   "outputs": [],
   "source": [
    "def create_neural_net(num_layers, layer_widths, num_input, num_output, activation):\n",
    "    weights = {0: tf.Variable(tf.random_normal([num_input, layer_widths[0]]))}\n",
    "    for i in range(1, num_layers):\n",
    "        weights[i] = tf.Variable(tf.random_normal([layer_widths[i-1], layer_widths[i]]))\n",
    "    weights['out'] = tf.Variable(tf.random_normal([layer_widths[num_layers-1], num_output]))\n",
    "    \n",
    "    def net(X):\n",
    "        net = activation(tf.matmul(X, weights[0]))\n",
    "        for i in range(1, num_layers):\n",
    "            net = activation(tf.matmul(net, weights[i]))\n",
    "        net = activation(tf.matmul(net, weights['out']))\n",
    "        return net\n",
    "    return net, weights\n",
    "\n",
    "def train_nn(sess, net, x_train, y_train, num_steps, learning_rate, display_step, verbose=False):\n",
    "    predictions = net(X)\n",
    "    loss = tf.losses.mean_squared_error(Y, predictions, reduction=\"none\")\n",
    "    mse = tf.losses.mean_squared_error(Y, predictions)\n",
    "    optimizer = tf.train.AdamOptimizer(learning_rate=learning_rate)\n",
    "    train = optimizer.minimize(loss)\n",
    "    \n",
    "    init = tf.global_variables_initializer()\n",
    "    sess.run(init)\n",
    "\n",
    "    for step in range(num_steps):\n",
    "        sess.run(train, feed_dict={X: x_train, Y: y_train})\n",
    "\n",
    "        if verbose and step < 10 or (step + 1) % display_step == 0 or step == 0:\n",
    "            print(\"Step\", str(step), \"MSE:\", sess.run(mse, feed_dict={X: x_train, Y: y_train}))\n",
    "    \n",
    "    return predictions, mse"
   ]
  },
  {
   "cell_type": "code",
   "execution_count": 17,
   "metadata": {},
   "outputs": [
    {
     "name": "stdout",
     "output_type": "stream",
     "text": [
      "Step 0 MSE: 1.41161e+09\n",
      "Step 1 MSE: 2.58058e+07\n",
      "Step 2 MSE: 4.98474e+06\n",
      "Step 3 MSE: 3.84766e+06\n",
      "Step 4 MSE: 3.65645e+06\n",
      "Step 5 MSE: 3.26475e+06\n",
      "Step 6 MSE: 3.2327e+06\n",
      "Step 7 MSE: 3.12581e+06\n",
      "Step 8 MSE: 3.0496e+06\n",
      "Step 9 MSE: 2.95218e+06\n",
      "Step 99 MSE: 2.37528e+06\n",
      "Step 199 MSE: 2.37523e+06\n",
      "Step 299 MSE: 2.37523e+06\n",
      "Step 399 MSE: 2.37526e+06\n",
      "Step 499 MSE: 2.37523e+06\n",
      "Step 599 MSE: 2.37839e+06\n",
      "Step 699 MSE: 2.37523e+06\n",
      "Step 799 MSE: 2.37523e+06\n",
      "Step 899 MSE: 2.37523e+06\n",
      "Step 999 MSE: 2.37524e+06\n",
      "Training error: 2.37524e+06\n",
      "Testing error: 2.00484e+06\n"
     ]
    },
    {
     "data": {
      "image/png": "[encoded data removed]",
      "text/plain": [
       "<matplotlib.figure.Figure at 0x7f4150e62d68>"
      ]
     },
     "metadata": {},
     "output_type": "display_data"
    }
   ],
   "source": [
    "net, weights = create_neural_net(10, [10]*10, 1, 1, tf.nn.relu)\n",
    "sess = tf.Session()\n",
    "\n",
    "predictions, mse = train_nn(sess, net, x_train, y_train, num_steps, learning_rate, display_step, verbose=True)\n",
    "print(\"Training error:\", sess.run(mse, feed_dict={X: x_train, Y: y_train}))\n",
    "print(\"Testing error:\", sess.run(mse, feed_dict={X: x_test, Y: y_test}))\n",
    "visualize_neural_net(sess, predictions, dim, x_range, degree, c_true)\n",
    "sess.close()"
   ]
  },
  {
   "cell_type": "code",
   "execution_count": 15,
   "metadata": {},
   "outputs": [
    {
     "name": "stdout",
     "output_type": "stream",
     "text": [
      "Step 0 MSE: 4.74516e+06\n",
      "Step 99 MSE: 819632.0\n",
      "Step 199 MSE: 819628.0\n",
      "Step 299 MSE: 819628.0\n",
      "Step 399 MSE: 819628.0\n",
      "Step 499 MSE: 819628.0\n",
      "Step 599 MSE: 819628.0\n",
      "Step 699 MSE: 819628.0\n",
      "Step 799 MSE: 819628.0\n",
      "Step 899 MSE: 819628.0\n",
      "Step 999 MSE: 819628.0\n"
     ]
    }
   ],
   "source": [
    "learning_rate = 0.1\n",
    "num_steps = 1000\n",
    "batch_size = 128\n",
    "display_step = 100\n",
    "\n",
    "layer_width = 10\n",
    "num_input = 1\n",
    "num_output = 1\n",
    "\n",
    "X = tf.placeholder(\"float\", [None, num_input])\n",
    "Y = tf.placeholder(\"float\", [None, num_output])\n",
    "\n",
    "weights_4 = {\n",
    "    'h1': tf.Variable(tf.random_normal([num_input, layer_width])),\n",
    "    'h2': tf.Variable(tf.random_normal([layer_width, layer_width])),\n",
    "    'h3': tf.Variable(tf.random_normal([layer_width, layer_width])),\n",
    "    'h4': tf.Variable(tf.random_normal([layer_width, layer_width])),\n",
    "    'out': tf.Variable(tf.random_normal([layer_width, num_output]))\n",
    "}\n",
    "\n",
    "def neural_net_4(x):\n",
    "    net = tf.nn.relu(tf.matmul(x, weights_4['h1']))\n",
    "    net = tf.nn.relu(tf.matmul(net, weights_4['h2']))\n",
    "    net = tf.nn.relu(tf.matmul(net, weights_4['h3']))\n",
    "    net = tf.nn.relu(tf.matmul(net, weights_4['h4']))\n",
    "    net = tf.matmul(net, weights_4['out'])\n",
    "    return net\n",
    "\n",
    "predictions_4 = neural_net_4(X)\n",
    "loss = tf.losses.mean_squared_error(Y, predictions_4, reduction=\"none\")\n",
    "mse = tf.losses.mean_squared_error(Y, predictions_4)\n",
    "optimizer = tf.train.AdamOptimizer(learning_rate=learning_rate)\n",
    "train_4 = optimizer.minimize(loss)\n",
    "\n",
    "init = tf.global_variables_initializer()\n",
    "\n",
    "sess = tf.Session()\n",
    "sess.run(init)\n",
    "\n",
    "for step in range(num_steps):\n",
    "    sess.run(train_4, feed_dict={X: x_train, Y: y_train})\n",
    "    \n",
    "    if (step + 1) % display_step == 0 or step == 0:\n",
    "        print(\"Step\", str(step), \"MSE:\", sess.run(mse, feed_dict={X: x_train, Y: y_train}))"
   ]
  },
  {
   "cell_type": "code",
   "execution_count": 16,
   "metadata": {},
   "outputs": [
    {
     "data": {
      "image/png": "[encoded data removed]",
      "text/plain": [
       "<matplotlib.figure.Figure at 0x7f4151791780>"
      ]
     },
     "metadata": {},
     "output_type": "display_data"
    }
   ],
   "source": [
    "visualize_neural_net(sess, predictions_4, dim, x_range, degree, c_true)"
   ]
  },
  {
   "cell_type": "code",
   "execution_count": null,
   "metadata": {},
   "outputs": [],
   "source": []
  }
 ],
 "metadata": {
  "kernelspec": {
   "display_name": "Python 3",
   "language": "python",
   "name": "python3"
  },
  "language_info": {
   "codemirror_mode": {
    "name": "ipython",
    "version": 3
   },
   "file_extension": ".py",
   "mimetype": "text/x-python",
   "name": "python",
   "nbconvert_exporter": "python",
   "pygments_lexer": "ipython3",
   "version": "3.5.3"
  }
 },
 "nbformat": 4,
 "nbformat_minor": 2
}
